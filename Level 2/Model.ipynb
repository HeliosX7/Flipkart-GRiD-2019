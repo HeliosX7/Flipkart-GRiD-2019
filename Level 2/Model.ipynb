{
 "cells": [
  {
   "cell_type": "code",
   "execution_count": 0,
   "metadata": {
    "colab": {
     "base_uri": "https://localhost:8080/",
     "height": 34
    },
    "colab_type": "code",
    "id": "JM259ppRFcpd",
    "outputId": "668f80e7-5193-4655-c8e5-2674b01bcc18"
   },
   "outputs": [
    {
     "name": "stdout",
     "output_type": "stream",
     "text": [
      "Drive already mounted at /content/drive; to attempt to forcibly remount, call drive.mount(\"/content/drive\", force_remount=True).\n"
     ]
    }
   ],
   "source": [
    "from google.colab import drive\n",
    "drive.mount('/content/drive')"
   ]
  },
  {
   "cell_type": "code",
   "execution_count": 1,
   "metadata": {
    "colab": {
     "base_uri": "https://localhost:8080/",
     "height": 34
    },
    "colab_type": "code",
    "id": "sfO-lOCeG6YL",
    "outputId": "5982de19-7c62-4a75-b4f6-829ffc89791b"
   },
   "outputs": [
    {
     "name": "stderr",
     "output_type": "stream",
     "text": [
      "Using TensorFlow backend.\n"
     ]
    }
   ],
   "source": [
    "from keras.models import Sequential, Model\n",
    "from keras.models import load_model\n",
    "from keras.layers import Reshape, Activation, Conv2D, Input, MaxPooling2D, BatchNormalization, Flatten, Dense, Lambda, Dropout\n",
    "from keras.layers.advanced_activations import LeakyReLU\n",
    "from keras.callbacks import EarlyStopping, ModelCheckpoint, TensorBoard\n",
    "from keras.optimizers import SGD, Adam, RMSprop\n",
    "from keras.layers.merge import concatenate\n",
    "import matplotlib.pyplot as plt\n",
    "import keras.backend as K\n",
    "import tensorflow as tf\n",
    "import numpy as np\n",
    "import pickle\n",
    "import os, cv2\n",
    "import pandas as pd"
   ]
  },
  {
   "cell_type": "markdown",
   "metadata": {},
   "source": [
    "Converted first 2000 training images into array and appended them into a list X.\n",
    "Since we renamed the training images from 1.jpg to 14000.jpg we can use a loop to retrieve them."
   ]
  },
  {
   "cell_type": "code",
   "execution_count": 2,
   "metadata": {
    "colab": {
     "base_uri": "https://localhost:8080/",
     "height": 357
    },
    "colab_type": "code",
    "id": "Vuk1l76XHWGZ",
    "outputId": "d00f2cc4-c956-4904-c5d4-fb1c37887c8d"
   },
   "outputs": [
    {
     "name": "stdout",
     "output_type": "stream",
     "text": [
      "/content/drive/My Drive/newtraining/training_images/0.png\n",
      "/content/drive/My Drive/newtraining/training_images/100.png\n",
      "/content/drive/My Drive/newtraining/training_images/200.png\n",
      "/content/drive/My Drive/newtraining/training_images/300.png\n",
      "/content/drive/My Drive/newtraining/training_images/400.png\n",
      "/content/drive/My Drive/newtraining/training_images/500.png\n",
      "/content/drive/My Drive/newtraining/training_images/600.png\n",
      "/content/drive/My Drive/newtraining/training_images/700.png\n",
      "/content/drive/My Drive/newtraining/training_images/800.png\n",
      "/content/drive/My Drive/newtraining/training_images/900.png\n",
      "/content/drive/My Drive/newtraining/training_images/1000.png\n",
      "/content/drive/My Drive/newtraining/training_images/1100.png\n",
      "/content/drive/My Drive/newtraining/training_images/1200.png\n",
      "/content/drive/My Drive/newtraining/training_images/1300.png\n",
      "/content/drive/My Drive/newtraining/training_images/1400.png\n",
      "/content/drive/My Drive/newtraining/training_images/1500.png\n",
      "/content/drive/My Drive/newtraining/training_images/1600.png\n",
      "/content/drive/My Drive/newtraining/training_images/1700.png\n",
      "/content/drive/My Drive/newtraining/training_images/1800.png\n",
      "/content/drive/My Drive/newtraining/training_images/1900.png\n",
      "/content/drive/My Drive/newtraining/training_images/2000.png\n"
     ]
    }
   ],
   "source": [
    "X = []\n",
    "\n",
    "for i in range(1,2001):\n",
    "    myFile = \"/content/drive/My Drive/newtraining/training_images/\" + str(i) + \".png\"\n",
    "    if i%100==0:\n",
    "        print(myFile)\n",
    "    image = cv2.imread(myFile)\n",
    "    X.append (image)"
   ]
  },
  {
   "cell_type": "markdown",
   "metadata": {},
   "source": [
    "Saved this list into the drive using Pickle"
   ]
  },
  {
   "cell_type": "code",
   "execution_count": 0,
   "metadata": {
    "colab": {},
    "colab_type": "code",
    "id": "ZzX7iiW517d6"
   },
   "outputs": [],
   "source": [
    "with open(\"/content/drive/My Drive/newtraining/1401k_batch.txt\", \"wb\") as fp:\n",
    "    pickle.dump(X, fp)"
   ]
  },
  {
   "cell_type": "code",
   "execution_count": 0,
   "metadata": {
    "colab": {},
    "colab_type": "code",
    "id": "eNQG0Rlbt_5M"
   },
   "outputs": [],
   "source": [
    "del X"
   ]
  },
  {
   "cell_type": "code",
   "execution_count": 0,
   "metadata": {
    "colab": {},
    "colab_type": "code",
    "id": "6ZbB9sLS4UjM"
   },
   "outputs": [],
   "source": [
    "with open(\"/content/drive/My Drive/newtraining/6k_batch.txt\", \"rb\") as fp:   # Unpickling\n",
    "    X = pickle.load(fp)"
   ]
  },
  {
   "cell_type": "code",
   "execution_count": 0,
   "metadata": {
    "colab": {},
    "colab_type": "code",
    "id": "J2X4jOjw4h0c"
   },
   "outputs": [],
   "source": [
    "X = np.array(X)"
   ]
  },
  {
   "cell_type": "code",
   "execution_count": 0,
   "metadata": {
    "colab": {
     "base_uri": "https://localhost:8080/",
     "height": 34
    },
    "colab_type": "code",
    "id": "-hVS3BCx4n3c",
    "outputId": "2a385f1a-89aa-4f42-f5ab-5736d52af258"
   },
   "outputs": [
    {
     "data": {
      "text/plain": [
       "(2000, 480, 640, 3)"
      ]
     },
     "execution_count": 7,
     "metadata": {
      "tags": []
     },
     "output_type": "execute_result"
    }
   ],
   "source": [
    "X.shape"
   ]
  },
  {
   "cell_type": "code",
   "execution_count": null,
   "metadata": {},
   "outputs": [],
   "source": [
    "X = X.astype(np.float32)\n",
    "X.dtype"
   ]
  },
  {
   "cell_type": "markdown",
   "metadata": {},
   "source": [
    "Normalised each channel to make mean=0 and std deviation = 1"
   ]
  },
  {
   "cell_type": "code",
   "execution_count": null,
   "metadata": {},
   "outputs": [],
   "source": [
    "mean2 = X[:,:,:,2].mean() \n",
    "std2=X[:,:,:,2].std()\n",
    "mean1 = X[:,:,:,1].mean() \n",
    "std1=X[:,:,:,1].std()\n",
    "mean = X[:,:,:,0].mean() \n",
    "std=X[:,:,:,0].std()\n",
    "X[:,:,:,0] = (X[:,:,:,0] - mean)/std\n",
    "X[:,:,:,1] = (X[:,:,:,1] - mean1)/std1\n",
    "X[:,:,:,2] = (X[:,:,:,2] - mean2)/std2"
   ]
  },
  {
   "cell_type": "markdown",
   "metadata": {},
   "source": [
    "Loaded the training.csv file"
   ]
  },
  {
   "cell_type": "code",
   "execution_count": 0,
   "metadata": {
    "colab": {
     "base_uri": "https://localhost:8080/",
     "height": 204
    },
    "colab_type": "code",
    "id": "dr_HHQx4Ei30",
    "outputId": "711564a0-f9a1-4078-c682-e7ccd78b180a"
   },
   "outputs": [
    {
     "data": {
      "text/html": [
       "<div>\n",
       "<style scoped>\n",
       "    .dataframe tbody tr th:only-of-type {\n",
       "        vertical-align: middle;\n",
       "    }\n",
       "\n",
       "    .dataframe tbody tr th {\n",
       "        vertical-align: top;\n",
       "    }\n",
       "\n",
       "    .dataframe thead th {\n",
       "        text-align: right;\n",
       "    }\n",
       "</style>\n",
       "<table border=\"1\" class=\"dataframe\">\n",
       "  <thead>\n",
       "    <tr style=\"text-align: right;\">\n",
       "      <th></th>\n",
       "      <th>image_name</th>\n",
       "      <th>x1</th>\n",
       "      <th>x2</th>\n",
       "      <th>y1</th>\n",
       "      <th>y2</th>\n",
       "    </tr>\n",
       "  </thead>\n",
       "  <tbody>\n",
       "    <tr>\n",
       "      <th>0</th>\n",
       "      <td>JPEG_20160706_121146_1000145715002.png</td>\n",
       "      <td>115</td>\n",
       "      <td>495</td>\n",
       "      <td>143</td>\n",
       "      <td>325</td>\n",
       "    </tr>\n",
       "    <tr>\n",
       "      <th>1</th>\n",
       "      <td>JPEG_20161119_174038_1000690577600.png</td>\n",
       "      <td>23</td>\n",
       "      <td>457</td>\n",
       "      <td>61</td>\n",
       "      <td>409</td>\n",
       "    </tr>\n",
       "    <tr>\n",
       "      <th>2</th>\n",
       "      <td>147444927651111470309333776-Roadster-Men-Casua...</td>\n",
       "      <td>37</td>\n",
       "      <td>601</td>\n",
       "      <td>13</td>\n",
       "      <td>470</td>\n",
       "    </tr>\n",
       "    <tr>\n",
       "      <th>3</th>\n",
       "      <td>147772332675720161028_161611.png</td>\n",
       "      <td>27</td>\n",
       "      <td>602</td>\n",
       "      <td>162</td>\n",
       "      <td>385</td>\n",
       "    </tr>\n",
       "    <tr>\n",
       "      <th>4</th>\n",
       "      <td>1473315333651DeeplearnS11638.png</td>\n",
       "      <td>60</td>\n",
       "      <td>586</td>\n",
       "      <td>174</td>\n",
       "      <td>325</td>\n",
       "    </tr>\n",
       "  </tbody>\n",
       "</table>\n",
       "</div>"
      ],
      "text/plain": [
       "                                          image_name   x1   x2   y1   y2\n",
       "0             JPEG_20160706_121146_1000145715002.png  115  495  143  325\n",
       "1             JPEG_20161119_174038_1000690577600.png   23  457   61  409\n",
       "2  147444927651111470309333776-Roadster-Men-Casua...   37  601   13  470\n",
       "3                   147772332675720161028_161611.png   27  602  162  385\n",
       "4                   1473315333651DeeplearnS11638.png   60  586  174  325"
      ]
     },
     "execution_count": 8,
     "metadata": {
      "tags": []
     },
     "output_type": "execute_result"
    }
   ],
   "source": [
    "boundary = pd.read_csv(\"/content/drive/My Drive/newtraining/training.csv\")\n",
    "boundary.head(5)"
   ]
  },
  {
   "cell_type": "code",
   "execution_count": 0,
   "metadata": {
    "colab": {},
    "colab_type": "code",
    "id": "YBEs0mBXFG60"
   },
   "outputs": [],
   "source": [
    "df = boundary\n",
    "del df[\"image_name\"]"
   ]
  },
  {
   "cell_type": "markdown",
   "metadata": {},
   "source": [
    "Slicing of the csv file to get first 2000 boundary boxes"
   ]
  },
  {
   "cell_type": "code",
   "execution_count": 0,
   "metadata": {
    "colab": {
     "base_uri": "https://localhost:8080/",
     "height": 34
    },
    "colab_type": "code",
    "id": "aCWdZdIfFZrd",
    "outputId": "1233db7d-6cb3-4f41-924c-18c75b72b896"
   },
   "outputs": [
    {
     "data": {
      "text/plain": [
       "(2000, 4)"
      ]
     },
     "execution_count": 10,
     "metadata": {
      "tags": []
     },
     "output_type": "execute_result"
    }
   ],
   "source": [
    "df = df.iloc[0:2000 , :]\n",
    "df.shape"
   ]
  },
  {
   "cell_type": "code",
   "execution_count": 0,
   "metadata": {
    "colab": {
     "base_uri": "https://localhost:8080/",
     "height": 34
    },
    "colab_type": "code",
    "id": "84UK6vQkGAlK",
    "outputId": "58726fa1-6210-4016-ee07-cdf23b41c1a9"
   },
   "outputs": [
    {
     "data": {
      "text/plain": [
       "(2000, 4)"
      ]
     },
     "execution_count": 11,
     "metadata": {
      "tags": []
     },
     "output_type": "execute_result"
    }
   ],
   "source": [
    "y = df.values\n",
    "y.shape"
   ]
  },
  {
   "cell_type": "code",
   "execution_count": 0,
   "metadata": {
    "colab": {
     "base_uri": "https://localhost:8080/",
     "height": 34
    },
    "colab_type": "code",
    "id": "e_dLwAp-SW6Z",
    "outputId": "8bd4a310-5702-4f4b-afaa-b7b892cbe920"
   },
   "outputs": [
    {
     "data": {
      "text/plain": [
       "dtype('float32')"
      ]
     },
     "execution_count": 12,
     "metadata": {
      "tags": []
     },
     "output_type": "execute_result"
    }
   ],
   "source": [
    "y = y.astype(np.float32)\n",
    "y.dtype"
   ]
  },
  {
   "cell_type": "code",
   "execution_count": 0,
   "metadata": {
    "colab": {
     "base_uri": "https://localhost:8080/",
     "height": 139
    },
    "colab_type": "code",
    "id": "Vx5sDWJD718g",
    "outputId": "42a3a3fd-8277-490d-efc8-fefdead8c197"
   },
   "outputs": [
    {
     "name": "stdout",
     "output_type": "stream",
     "text": [
      "WARNING:tensorflow:From /usr/local/lib/python3.6/dist-packages/tensorflow/python/framework/op_def_library.py:263: colocate_with (from tensorflow.python.framework.ops) is deprecated and will be removed in a future version.\n",
      "Instructions for updating:\n",
      "Colocations handled automatically by placer.\n",
      "WARNING:tensorflow:From /usr/local/lib/python3.6/dist-packages/keras/backend/tensorflow_backend.py:3445: calling dropout (from tensorflow.python.ops.nn_ops) with keep_prob is deprecated and will be removed in a future version.\n",
      "Instructions for updating:\n",
      "Please use `rate` instead of `keep_prob`. Rate should be set to `rate = 1 - keep_prob`.\n"
     ]
    }
   ],
   "source": [
    "    model = Sequential()\n",
    "\n",
    "    model.add(Conv2D(24, (5, 5), padding='same', input_shape=X.shape[1:], name='block1_conv1'))\n",
    "    model.add(BatchNormalization()) \n",
    "    model.add(Activation('elu'))\n",
    "\n",
    "    model.add(MaxPooling2D((2, 2), strides=(2, 2), name='block1_pool'))\n",
    "\n",
    "    model.add(Conv2D(36, (5, 5), padding='same', name='block2_conv2'))\n",
    "    model.add(BatchNormalization()) \n",
    "    model.add(Activation('elu'))\n",
    "    model.add(MaxPooling2D((2, 2), strides=(2, 2), name='block2_pool'))\n",
    "\n",
    "    model.add(Conv2D(48, (5, 5), padding='same', name='block3_conv1'))\n",
    "    model.add(BatchNormalization())\n",
    "    model.add(Activation('elu'))\n",
    "\n",
    "    model.add(Conv2D(64, (3, 3), padding='same', name='block3_conv3'))\n",
    "    model.add(BatchNormalization())\n",
    "    model.add(Activation('elu'))\n",
    "\n",
    "\n",
    "    model.add(MaxPooling2D((2, 2), strides=(2, 2), name='block3_pool'))\n",
    "\n",
    "    model.add(Conv2D(64, (3, 3), padding='valid', name='block4_conv1'))\n",
    "    model.add(BatchNormalization()) \n",
    "    model.add(Activation('elu'))\n",
    "\n",
    "    model.add(Flatten())\n",
    "\n",
    "    model.add(Dense(10))\n",
    "    model.add(BatchNormalization()) \n",
    "    model.add(Activation('elu'))\n",
    "\n",
    "    model.add(Dense(8, name='fc2'))\n",
    "    model.add(BatchNormalization()) \n",
    "    model.add(Activation('elu'))\n",
    "    model.add(Dropout(rate = 0.4))\n",
    "\n",
    "    model.add(Dense(4))\n"
   ]
  },
  {
   "cell_type": "code",
   "execution_count": 0,
   "metadata": {
    "colab": {
     "base_uri": "https://localhost:8080/",
     "height": 1054
    },
    "colab_type": "code",
    "id": "vxAAY-7yuxKq",
    "outputId": "20775e19-550f-45b2-f541-cc32f2d41775"
   },
   "outputs": [
    {
     "name": "stdout",
     "output_type": "stream",
     "text": [
      "_________________________________________________________________\n",
      "Layer (type)                 Output Shape              Param #   \n",
      "=================================================================\n",
      "block1_conv1 (Conv2D)        (None, 480, 640, 24)      1824      \n",
      "_________________________________________________________________\n",
      "batch_normalization_21 (Batc (None, 480, 640, 24)      96        \n",
      "_________________________________________________________________\n",
      "activation_21 (Activation)   (None, 480, 640, 24)      0         \n",
      "_________________________________________________________________\n",
      "block1_pool (MaxPooling2D)   (None, 240, 320, 24)      0         \n",
      "_________________________________________________________________\n",
      "block2_conv2 (Conv2D)        (None, 240, 320, 36)      21636     \n",
      "_________________________________________________________________\n",
      "batch_normalization_22 (Batc (None, 240, 320, 36)      144       \n",
      "_________________________________________________________________\n",
      "activation_22 (Activation)   (None, 240, 320, 36)      0         \n",
      "_________________________________________________________________\n",
      "block2_pool (MaxPooling2D)   (None, 120, 160, 36)      0         \n",
      "_________________________________________________________________\n",
      "block3_conv1 (Conv2D)        (None, 120, 160, 48)      43248     \n",
      "_________________________________________________________________\n",
      "batch_normalization_23 (Batc (None, 120, 160, 48)      192       \n",
      "_________________________________________________________________\n",
      "activation_23 (Activation)   (None, 120, 160, 48)      0         \n",
      "_________________________________________________________________\n",
      "block3_conv3 (Conv2D)        (None, 120, 160, 64)      27712     \n",
      "_________________________________________________________________\n",
      "batch_normalization_24 (Batc (None, 120, 160, 64)      256       \n",
      "_________________________________________________________________\n",
      "activation_24 (Activation)   (None, 120, 160, 64)      0         \n",
      "_________________________________________________________________\n",
      "block3_pool (MaxPooling2D)   (None, 60, 80, 64)        0         \n",
      "_________________________________________________________________\n",
      "block4_conv1 (Conv2D)        (None, 58, 78, 64)        36928     \n",
      "_________________________________________________________________\n",
      "batch_normalization_25 (Batc (None, 58, 78, 64)        256       \n",
      "_________________________________________________________________\n",
      "activation_25 (Activation)   (None, 58, 78, 64)        0         \n",
      "_________________________________________________________________\n",
      "flatten_4 (Flatten)          (None, 289536)            0         \n",
      "_________________________________________________________________\n",
      "dense_6 (Dense)              (None, 10)                2895370   \n",
      "_________________________________________________________________\n",
      "batch_normalization_26 (Batc (None, 10)                40        \n",
      "_________________________________________________________________\n",
      "activation_26 (Activation)   (None, 10)                0         \n",
      "_________________________________________________________________\n",
      "fc2 (Dense)                  (None, 8)                 88        \n",
      "_________________________________________________________________\n",
      "batch_normalization_27 (Batc (None, 8)                 32        \n",
      "_________________________________________________________________\n",
      "activation_27 (Activation)   (None, 8)                 0         \n",
      "_________________________________________________________________\n",
      "dropout_4 (Dropout)          (None, 8)                 0         \n",
      "_________________________________________________________________\n",
      "dense_7 (Dense)              (None, 4)                 36        \n",
      "=================================================================\n",
      "Total params: 3,027,858\n",
      "Trainable params: 3,027,350\n",
      "Non-trainable params: 508\n",
      "_________________________________________________________________\n"
     ]
    }
   ],
   "source": [
    "model.summary()"
   ]
  },
  {
   "cell_type": "code",
   "execution_count": 0,
   "metadata": {
    "colab": {},
    "colab_type": "code",
    "id": "yel3M0tb_ydm"
   },
   "outputs": [],
   "source": [
    "model.compile(loss='mean_absolute_error', optimizer=Adam(lr=0.1))"
   ]
  },
  {
   "cell_type": "code",
   "execution_count": null,
   "metadata": {},
   "outputs": [],
   "source": [
    "model.fit(X, y, epochs=40)"
   ]
  },
  {
   "cell_type": "markdown",
   "metadata": {},
   "source": [
    "Saved the model weights after training of first batch"
   ]
  },
  {
   "cell_type": "code",
   "execution_count": 0,
   "metadata": {
    "colab": {},
    "colab_type": "code",
    "id": "2Lk5Ks1We5wa"
   },
   "outputs": [],
   "source": [
    "model.save(\"/content/drive/My Drive/newtraining/model2kbatch.h5\")"
   ]
  },
  {
   "cell_type": "code",
   "execution_count": 0,
   "metadata": {
    "colab": {},
    "colab_type": "code",
    "id": "2y4AxFmon0An"
   },
   "outputs": [],
   "source": [
    "del model"
   ]
  }
 ],
 "metadata": {
  "accelerator": "GPU",
  "colab": {
   "collapsed_sections": [],
   "name": "Submission_of_Grid.ipynb",
   "provenance": [],
   "version": "0.3.2"
  },
  "kernelspec": {
   "display_name": "Python 3",
   "language": "python",
   "name": "python3"
  },
  "language_info": {
   "codemirror_mode": {
    "name": "ipython",
    "version": 3
   },
   "file_extension": ".py",
   "mimetype": "text/x-python",
   "name": "python",
   "nbconvert_exporter": "python",
   "pygments_lexer": "ipython3",
   "version": "3.6.6"
  }
 },
 "nbformat": 4,
 "nbformat_minor": 1
}
