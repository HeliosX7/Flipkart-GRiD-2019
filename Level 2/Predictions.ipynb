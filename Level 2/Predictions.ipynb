{
 "cells": [
  {
   "cell_type": "code",
   "execution_count": 28,
   "metadata": {
    "colab": {
     "base_uri": "https://localhost:8080/",
     "height": 34
    },
    "colab_type": "code",
    "executionInfo": {
     "elapsed": 1108,
     "status": "ok",
     "timestamp": 1549778830365,
     "user": {
      "displayName": "SAURAV",
      "photoUrl": "",
      "userId": "09942070638106370624"
     },
     "user_tz": -330
    },
    "id": "mKt4k6XkwMsj",
    "outputId": "4f6fe8df-a028-4436-c030-c24ff720bf43"
   },
   "outputs": [
    {
     "name": "stdout",
     "output_type": "stream",
     "text": [
      "Drive already mounted at /content/drive; to attempt to forcibly remount, call drive.mount(\"/content/drive\", force_remount=True).\n"
     ]
    }
   ],
   "source": [
    "from google.colab import drive\n",
    "drive.mount('/content/drive')"
   ]
  },
  {
   "cell_type": "code",
   "execution_count": 0,
   "metadata": {
    "colab": {},
    "colab_type": "code",
    "id": "4mhlOuu_wpUF"
   },
   "outputs": [],
   "source": [
    "from keras.models import Sequential, Model\n",
    "from keras.models import load_model\n",
    "from keras.layers import Reshape, Activation, Conv2D, Input, MaxPooling2D, BatchNormalization, Flatten, Dense, Lambda, Dropout\n",
    "from keras.layers.advanced_activations import LeakyReLU\n",
    "from keras.callbacks import EarlyStopping, ModelCheckpoint, TensorBoard\n",
    "from keras.optimizers import SGD, Adam, RMSprop\n",
    "from keras.layers.merge import concatenate\n",
    "import matplotlib.pyplot as plt\n",
    "import keras.backend as K\n",
    "import tensorflow as tf\n",
    "import numpy as np\n",
    "import pickle\n",
    "import os, cv2\n",
    "import pandas as pd"
   ]
  },
  {
   "cell_type": "markdown",
   "metadata": {},
   "source": [
    "Loaded the model fully trained on 14000 training images"
   ]
  },
  {
   "cell_type": "code",
   "execution_count": 0,
   "metadata": {
    "colab": {},
    "colab_type": "code",
    "id": "ZB5HwonuxP-X"
   },
   "outputs": [],
   "source": [
    "model = load_model(\"/content/drive/My Drive/model114kbatch.h5\")"
   ]
  },
  {
   "cell_type": "code",
   "execution_count": 0,
   "metadata": {
    "colab": {
     "base_uri": "https://localhost:8080/",
     "height": 1054
    },
    "colab_type": "code",
    "executionInfo": {
     "elapsed": 925,
     "status": "ok",
     "timestamp": 1549771354449,
     "user": {
      "displayName": "SAURAV",
      "photoUrl": "",
      "userId": "09942070638106370624"
     },
     "user_tz": -330
    },
    "id": "T8sZb6dMxfAo",
    "outputId": "92bd2e17-574d-4a84-885b-f897c706bbc3"
   },
   "outputs": [
    {
     "name": "stdout",
     "output_type": "stream",
     "text": [
      "_________________________________________________________________\n",
      "Layer (type)                 Output Shape              Param #   \n",
      "=================================================================\n",
      "block1_conv1 (Conv2D)        (None, 480, 640, 24)      1824      \n",
      "_________________________________________________________________\n",
      "batch_normalization_1 (Batch (None, 480, 640, 24)      96        \n",
      "_________________________________________________________________\n",
      "activation_1 (Activation)    (None, 480, 640, 24)      0         \n",
      "_________________________________________________________________\n",
      "block1_pool (MaxPooling2D)   (None, 240, 320, 24)      0         \n",
      "_________________________________________________________________\n",
      "block2_conv2 (Conv2D)        (None, 240, 320, 36)      21636     \n",
      "_________________________________________________________________\n",
      "batch_normalization_2 (Batch (None, 240, 320, 36)      144       \n",
      "_________________________________________________________________\n",
      "activation_2 (Activation)    (None, 240, 320, 36)      0         \n",
      "_________________________________________________________________\n",
      "block2_pool (MaxPooling2D)   (None, 120, 160, 36)      0         \n",
      "_________________________________________________________________\n",
      "block3_conv1 (Conv2D)        (None, 120, 160, 48)      43248     \n",
      "_________________________________________________________________\n",
      "batch_normalization_3 (Batch (None, 120, 160, 48)      192       \n",
      "_________________________________________________________________\n",
      "activation_3 (Activation)    (None, 120, 160, 48)      0         \n",
      "_________________________________________________________________\n",
      "block3_conv3 (Conv2D)        (None, 120, 160, 64)      27712     \n",
      "_________________________________________________________________\n",
      "batch_normalization_4 (Batch (None, 120, 160, 64)      256       \n",
      "_________________________________________________________________\n",
      "activation_4 (Activation)    (None, 120, 160, 64)      0         \n",
      "_________________________________________________________________\n",
      "block3_pool (MaxPooling2D)   (None, 60, 80, 64)        0         \n",
      "_________________________________________________________________\n",
      "block4_conv1 (Conv2D)        (None, 58, 78, 64)        36928     \n",
      "_________________________________________________________________\n",
      "batch_normalization_5 (Batch (None, 58, 78, 64)        256       \n",
      "_________________________________________________________________\n",
      "activation_5 (Activation)    (None, 58, 78, 64)        0         \n",
      "_________________________________________________________________\n",
      "flatten_1 (Flatten)          (None, 289536)            0         \n",
      "_________________________________________________________________\n",
      "dense_1 (Dense)              (None, 10)                2895370   \n",
      "_________________________________________________________________\n",
      "batch_normalization_6 (Batch (None, 10)                40        \n",
      "_________________________________________________________________\n",
      "activation_6 (Activation)    (None, 10)                0         \n",
      "_________________________________________________________________\n",
      "fc2 (Dense)                  (None, 8)                 88        \n",
      "_________________________________________________________________\n",
      "batch_normalization_7 (Batch (None, 8)                 32        \n",
      "_________________________________________________________________\n",
      "activation_7 (Activation)    (None, 8)                 0         \n",
      "_________________________________________________________________\n",
      "dropout_1 (Dropout)          (None, 8)                 0         \n",
      "_________________________________________________________________\n",
      "dense_2 (Dense)              (None, 4)                 36        \n",
      "=================================================================\n",
      "Total params: 3,027,858\n",
      "Trainable params: 3,027,350\n",
      "Non-trainable params: 508\n",
      "_________________________________________________________________\n"
     ]
    }
   ],
   "source": [
    "model.summary()"
   ]
  },
  {
   "cell_type": "code",
   "execution_count": 32,
   "metadata": {
    "colab": {
     "base_uri": "https://localhost:8080/",
     "height": 34
    },
    "colab_type": "code",
    "executionInfo": {
     "elapsed": 1937,
     "status": "ok",
     "timestamp": 1549778881177,
     "user": {
      "displayName": "SAURAV",
      "photoUrl": "",
      "userId": "09942070638106370624"
     },
     "user_tz": -330
    },
    "id": "scTkkGsW1WgV",
    "outputId": "2f7fb7f7-536d-46e2-8928-30adf1c94158"
   },
   "outputs": [
    {
     "name": "stdout",
     "output_type": "stream",
     "text": [
      "12815\n"
     ]
    }
   ],
   "source": [
    "print(len(os.listdir(\"/content/drive/My Drive/test_images\")))"
   ]
  },
  {
   "cell_type": "markdown",
   "metadata": {},
   "source": [
    "We convert each image into an ndarray and append these arrays to the list X_data which will be used for getting predictions.\n",
    "The size of the list containing all 12815 images would be around 10Gb which cannot be processed into our RAM that's why we separated the testing images into batches of 2000 images like we did with training images and got the predictions."
   ]
  },
  {
   "cell_type": "code",
   "execution_count": null,
   "metadata": {
    "colab": {
     "base_uri": "https://localhost:8080/",
     "height": 357
    },
    "colab_type": "code",
    "executionInfo": {
     "elapsed": 55197,
     "status": "ok",
     "timestamp": 1549780226739,
     "user": {
      "displayName": "SAURAV",
      "photoUrl": "",
      "userId": "09942070638106370624"
     },
     "user_tz": -330
    },
    "id": "3gt9lpItM15q",
    "outputId": "b3ac1786-e570-4c69-9038-77271df84d0a"
   },
   "outputs": [],
   "source": [
    "X = []\n",
    "\n",
    "for i in range(1,2001):\n",
    "    myFile = \"/content/drive/My Drive/test_images/\" + str(i) + \".png\"\n",
    "    if i%100==0:\n",
    "        print(myFile)\n",
    "    image = cv2.imread(myFile)\n",
    "    X.append (image)"
   ]
  },
  {
   "cell_type": "markdown",
   "metadata": {},
   "source": [
    "Saved this list into the drive in case we need this list in future."
   ]
  },
  {
   "cell_type": "code",
   "execution_count": 0,
   "metadata": {
    "colab": {},
    "colab_type": "code",
    "id": "EzSIY-kTSOWi"
   },
   "outputs": [],
   "source": [
    "with open(\"/content/drive/My Drive/2ktest_batch.txt\", \"wb\") as fp:\n",
    "    pickle.dump(X, fp)"
   ]
  },
  {
   "cell_type": "code",
   "execution_count": null,
   "metadata": {},
   "outputs": [],
   "source": [
    "X = np.array(X)"
   ]
  },
  {
   "cell_type": "code",
   "execution_count": null,
   "metadata": {},
   "outputs": [],
   "source": [
    "X = X.astype(np.float32)\n",
    "X.dtype"
   ]
  },
  {
   "cell_type": "code",
   "execution_count": null,
   "metadata": {},
   "outputs": [],
   "source": [
    "mean2 = X[:,:,:,2].mean() \n",
    "std2=X[:,:,:,2].std()\n",
    "mean1 = X[:,:,:,1].mean() \n",
    "std1=X[:,:,:,1].std()\n",
    "mean = X[:,:,:,0].mean() \n",
    "std=X[:,:,:,0].std()\n",
    "X[:,:,:,0] = (X[:,:,:,0] - mean)/std\n",
    "X[:,:,:,1] = (X[:,:,:,1] - mean1)/std1\n",
    "X[:,:,:,2] = (X[:,:,:,2] - mean2)/std2"
   ]
  },
  {
   "cell_type": "markdown",
   "metadata": {},
   "source": [
    "Got the prediction for the first batch of test images"
   ]
  },
  {
   "cell_type": "code",
   "execution_count": null,
   "metadata": {
    "colab": {
     "base_uri": "https://localhost:8080/",
     "height": 136
    },
    "colab_type": "code",
    "executionInfo": {
     "elapsed": 29226,
     "status": "ok",
     "timestamp": 1549780298171,
     "user": {
      "displayName": "SAURAV",
      "photoUrl": "",
      "userId": "09942070638106370624"
     },
     "user_tz": -330
    },
    "id": "ZYHO2aRAShlG",
    "outputId": "e9d8877d-6c74-484e-ead1-95d240c8c66c"
   },
   "outputs": [],
   "source": [
    "out=model.predict(X)\n",
    "out"
   ]
  },
  {
   "cell_type": "markdown",
   "metadata": {},
   "source": [
    "Saved this prediction array into the drive"
   ]
  },
  {
   "cell_type": "code",
   "execution_count": 0,
   "metadata": {
    "colab": {},
    "colab_type": "code",
    "id": "EPfCJFPXS2DN"
   },
   "outputs": [],
   "source": [
    "with open(\"/content/drive/My Drive/2ktestpred_batch.txt\", \"wb\") as fp:\n",
    "    pickle.dump(out, fp)"
   ]
  },
  {
   "cell_type": "code",
   "execution_count": 0,
   "metadata": {
    "colab": {},
    "colab_type": "code",
    "id": "GYifh1tDCgXx"
   },
   "outputs": [],
   "source": [
    "del model #clear the RAM\n",
    "del X"
   ]
  },
  {
   "cell_type": "markdown",
   "metadata": {},
   "source": [
    "All previous steps are repeated until we get predictions for bounding boxes of all 12815 test images\n",
    "Finally we load the predictions of all the images and stack them together into a single array"
   ]
  },
  {
   "cell_type": "code",
   "execution_count": 0,
   "metadata": {
    "colab": {},
    "colab_type": "code",
    "id": "jhRgBroWCk_X"
   },
   "outputs": [],
   "source": [
    "with open(\"/content/drive/My Drive/2ktestpred_batch.txt\", \"rb\") as fp:   # Unpickling\n",
    "    pred1 = pickle.load(fp)"
   ]
  },
  {
   "cell_type": "code",
   "execution_count": 0,
   "metadata": {
    "colab": {},
    "colab_type": "code",
    "id": "MtWJyRJQDTov"
   },
   "outputs": [],
   "source": [
    "with open(\"/content/drive/My Drive/4ktestpred_batch.txt\", \"rb\") as fp:   # Unpickling\n",
    "    pred2 = pickle.load(fp)"
   ]
  },
  {
   "cell_type": "code",
   "execution_count": 0,
   "metadata": {
    "colab": {},
    "colab_type": "code",
    "id": "MWECbtd-Dl-l"
   },
   "outputs": [],
   "source": [
    "with open(\"/content/drive/My Drive/6ktestpred_batch.txt\", \"rb\") as fp:   # Unpickling\n",
    "    pred3 = pickle.load(fp)"
   ]
  },
  {
   "cell_type": "code",
   "execution_count": 0,
   "metadata": {
    "colab": {},
    "colab_type": "code",
    "id": "A7TWdy4yG2e_"
   },
   "outputs": [],
   "source": [
    "with open(\"/content/drive/My Drive/8ktestpred_batch.txt\", \"rb\") as fp:   # Unpickling\n",
    "    pred4 = pickle.load(fp)"
   ]
  },
  {
   "cell_type": "code",
   "execution_count": 0,
   "metadata": {
    "colab": {},
    "colab_type": "code",
    "id": "NZ6g9QenHK7Q"
   },
   "outputs": [],
   "source": [
    "with open(\"/content/drive/My Drive/10ktestpred_batch.txt\", \"rb\") as fp:   # Unpickling\n",
    "    pred5 = pickle.load(fp)"
   ]
  },
  {
   "cell_type": "code",
   "execution_count": 0,
   "metadata": {
    "colab": {},
    "colab_type": "code",
    "id": "CLJoHe2IHYC4"
   },
   "outputs": [],
   "source": [
    "with open(\"/content/drive/My Drive/12ktestpred_batch.txt\", \"rb\") as fp:   # Unpickling\n",
    "    pred6 = pickle.load(fp)"
   ]
  },
  {
   "cell_type": "code",
   "execution_count": 0,
   "metadata": {
    "colab": {},
    "colab_type": "code",
    "id": "3pJyZ8BVHmJU"
   },
   "outputs": [],
   "source": [
    "with open(\"/content/drive/My Drive/lasttestpred_batch.txt\", \"rb\") as fp:   # Unpickling\n",
    "    pred7 = pickle.load(fp)"
   ]
  },
  {
   "cell_type": "code",
   "execution_count": 0,
   "metadata": {
    "colab": {},
    "colab_type": "code",
    "id": "hqkNCErEH58O"
   },
   "outputs": [],
   "source": [
    "boxprediction = np.concatenate((pred1,pred2,pred3,pred4,pred5,pred6,pred7) , axis = 0)"
   ]
  },
  {
   "cell_type": "code",
   "execution_count": 96,
   "metadata": {
    "colab": {
     "base_uri": "https://localhost:8080/",
     "height": 34
    },
    "colab_type": "code",
    "executionInfo": {
     "elapsed": 1077,
     "status": "ok",
     "timestamp": 1549781272925,
     "user": {
      "displayName": "SAURAV",
      "photoUrl": "",
      "userId": "09942070638106370624"
     },
     "user_tz": -330
    },
    "id": "pBToKpDvIV3N",
    "outputId": "8d383105-c4b2-4373-e9d4-6641f957c24d"
   },
   "outputs": [
    {
     "data": {
      "text/plain": [
       "((12815, 4), dtype('float32'))"
      ]
     },
     "execution_count": 96,
     "metadata": {
      "tags": []
     },
     "output_type": "execute_result"
    }
   ],
   "source": [
    "boxprediction.shape , boxprediction.dtype"
   ]
  },
  {
   "cell_type": "markdown",
   "metadata": {},
   "source": [
    "After getting all the predictions we make the csv file"
   ]
  },
  {
   "cell_type": "code",
   "execution_count": 95,
   "metadata": {
    "colab": {
     "base_uri": "https://localhost:8080/",
     "height": 204
    },
    "colab_type": "code",
    "executionInfo": {
     "elapsed": 3897,
     "status": "ok",
     "timestamp": 1549781012936,
     "user": {
      "displayName": "SAURAV",
      "photoUrl": "",
      "userId": "09942070638106370624"
     },
     "user_tz": -330
    },
    "id": "-0M5PwH1IZ2d",
    "outputId": "c5fbe415-f0ad-4b4e-b5a9-8fd8ddd2bca4"
   },
   "outputs": [
    {
     "data": {
      "text/html": [
       "<div>\n",
       "<style scoped>\n",
       "    .dataframe tbody tr th:only-of-type {\n",
       "        vertical-align: middle;\n",
       "    }\n",
       "\n",
       "    .dataframe tbody tr th {\n",
       "        vertical-align: top;\n",
       "    }\n",
       "\n",
       "    .dataframe thead th {\n",
       "        text-align: right;\n",
       "    }\n",
       "</style>\n",
       "<table border=\"1\" class=\"dataframe\">\n",
       "  <thead>\n",
       "    <tr style=\"text-align: right;\">\n",
       "      <th></th>\n",
       "      <th>image_name</th>\n",
       "      <th>x1</th>\n",
       "      <th>x2</th>\n",
       "      <th>y1</th>\n",
       "      <th>y2</th>\n",
       "    </tr>\n",
       "  </thead>\n",
       "  <tbody>\n",
       "    <tr>\n",
       "      <th>0</th>\n",
       "      <td>1474723840903DSC08089.png</td>\n",
       "      <td>NaN</td>\n",
       "      <td>NaN</td>\n",
       "      <td>NaN</td>\n",
       "      <td>NaN</td>\n",
       "    </tr>\n",
       "    <tr>\n",
       "      <th>1</th>\n",
       "      <td>1473231475010DeeplearnS11276.png</td>\n",
       "      <td>NaN</td>\n",
       "      <td>NaN</td>\n",
       "      <td>NaN</td>\n",
       "      <td>NaN</td>\n",
       "    </tr>\n",
       "    <tr>\n",
       "      <th>2</th>\n",
       "      <td>JPEG_20161205_135307_1000155917326.png</td>\n",
       "      <td>NaN</td>\n",
       "      <td>NaN</td>\n",
       "      <td>NaN</td>\n",
       "      <td>NaN</td>\n",
       "    </tr>\n",
       "    <tr>\n",
       "      <th>3</th>\n",
       "      <td>JPEG_20160711_123440_1000518778437.png</td>\n",
       "      <td>NaN</td>\n",
       "      <td>NaN</td>\n",
       "      <td>NaN</td>\n",
       "      <td>NaN</td>\n",
       "    </tr>\n",
       "    <tr>\n",
       "      <th>4</th>\n",
       "      <td>JPEG_20160803_115329_100034020722.png</td>\n",
       "      <td>NaN</td>\n",
       "      <td>NaN</td>\n",
       "      <td>NaN</td>\n",
       "      <td>NaN</td>\n",
       "    </tr>\n",
       "  </tbody>\n",
       "</table>\n",
       "</div>"
      ],
      "text/plain": [
       "                               image_name  x1  x2  y1  y2\n",
       "0               1474723840903DSC08089.png NaN NaN NaN NaN\n",
       "1        1473231475010DeeplearnS11276.png NaN NaN NaN NaN\n",
       "2  JPEG_20161205_135307_1000155917326.png NaN NaN NaN NaN\n",
       "3  JPEG_20160711_123440_1000518778437.png NaN NaN NaN NaN\n",
       "4   JPEG_20160803_115329_100034020722.png NaN NaN NaN NaN"
      ]
     },
     "execution_count": 95,
     "metadata": {
      "tags": []
     },
     "output_type": "execute_result"
    }
   ],
   "source": [
    "test = pd.read_csv('/content/drive/My Drive/test (2).csv')\n",
    "test.head(5)"
   ]
  },
  {
   "cell_type": "code",
   "execution_count": 97,
   "metadata": {
    "colab": {
     "base_uri": "https://localhost:8080/",
     "height": 136
    },
    "colab_type": "code",
    "executionInfo": {
     "elapsed": 1291,
     "status": "ok",
     "timestamp": 1549781288794,
     "user": {
      "displayName": "SAURAV",
      "photoUrl": "",
      "userId": "09942070638106370624"
     },
     "user_tz": -330
    },
    "id": "K0CAWFY-JUfk",
    "outputId": "ab78bf34-ce78-487c-afca-bc1e87e0b395"
   },
   "outputs": [
    {
     "data": {
      "text/plain": [
       "array([[214, 435,  92, 389],\n",
       "       [ 88, 554, 114, 364],\n",
       "       [117, 510,  46, 431],\n",
       "       ...,\n",
       "       [ 87, 508,  52, 423],\n",
       "       [191, 498, 115, 367],\n",
       "       [ 39, 597,  78, 396]])"
      ]
     },
     "execution_count": 97,
     "metadata": {
      "tags": []
     },
     "output_type": "execute_result"
    }
   ],
   "source": [
    "boxprediction = boxprediction.astype(np.int64)\n",
    "boxprediction\n"
   ]
  },
  {
   "cell_type": "code",
   "execution_count": 98,
   "metadata": {
    "colab": {
     "base_uri": "https://localhost:8080/",
     "height": 34
    },
    "colab_type": "code",
    "executionInfo": {
     "elapsed": 1054,
     "status": "ok",
     "timestamp": 1549781302423,
     "user": {
      "displayName": "SAURAV",
      "photoUrl": "",
      "userId": "09942070638106370624"
     },
     "user_tz": -330
    },
    "id": "BoUYC276KdLs",
    "outputId": "7464533f-f905-4bdc-de08-13381400bcb8"
   },
   "outputs": [
    {
     "data": {
      "text/plain": [
       "dtype('int64')"
      ]
     },
     "execution_count": 98,
     "metadata": {
      "tags": []
     },
     "output_type": "execute_result"
    }
   ],
   "source": [
    "boxprediction.dtype"
   ]
  },
  {
   "cell_type": "code",
   "execution_count": 0,
   "metadata": {
    "colab": {},
    "colab_type": "code",
    "id": "dQj3COzOKgei"
   },
   "outputs": [],
   "source": [
    "df2 = test.copy()"
   ]
  },
  {
   "cell_type": "code",
   "execution_count": 0,
   "metadata": {
    "colab": {},
    "colab_type": "code",
    "id": "7lfRNCquKrSi"
   },
   "outputs": [],
   "source": [
    "df2['x1'] = boxprediction[:,0]"
   ]
  },
  {
   "cell_type": "code",
   "execution_count": 0,
   "metadata": {
    "colab": {},
    "colab_type": "code",
    "id": "MrVkxpOkLqg5"
   },
   "outputs": [],
   "source": [
    "df2['x2'] = boxprediction[:,1]"
   ]
  },
  {
   "cell_type": "code",
   "execution_count": 0,
   "metadata": {
    "colab": {},
    "colab_type": "code",
    "id": "32TPVr82MRFw"
   },
   "outputs": [],
   "source": [
    "df2['y1'] = boxprediction[:,2]\n",
    "df2['y2'] = boxprediction[:,3]"
   ]
  },
  {
   "cell_type": "code",
   "execution_count": 112,
   "metadata": {
    "colab": {
     "base_uri": "https://localhost:8080/",
     "height": 359
    },
    "colab_type": "code",
    "executionInfo": {
     "elapsed": 1345,
     "status": "ok",
     "timestamp": 1549781779750,
     "user": {
      "displayName": "SAURAV",
      "photoUrl": "",
      "userId": "09942070638106370624"
     },
     "user_tz": -330
    },
    "id": "OR9nD_oMK5lr",
    "outputId": "d370903f-c110-483a-8e71-64abc85e9693"
   },
   "outputs": [
    {
     "data": {
      "text/html": [
       "<div>\n",
       "<style scoped>\n",
       "    .dataframe tbody tr th:only-of-type {\n",
       "        vertical-align: middle;\n",
       "    }\n",
       "\n",
       "    .dataframe tbody tr th {\n",
       "        vertical-align: top;\n",
       "    }\n",
       "\n",
       "    .dataframe thead th {\n",
       "        text-align: right;\n",
       "    }\n",
       "</style>\n",
       "<table border=\"1\" class=\"dataframe\">\n",
       "  <thead>\n",
       "    <tr style=\"text-align: right;\">\n",
       "      <th></th>\n",
       "      <th>image_name</th>\n",
       "      <th>x1</th>\n",
       "      <th>x2</th>\n",
       "      <th>y1</th>\n",
       "      <th>y2</th>\n",
       "    </tr>\n",
       "  </thead>\n",
       "  <tbody>\n",
       "    <tr>\n",
       "      <th>0</th>\n",
       "      <td>1474723840903DSC08089.png</td>\n",
       "      <td>214</td>\n",
       "      <td>435</td>\n",
       "      <td>92</td>\n",
       "      <td>389</td>\n",
       "    </tr>\n",
       "    <tr>\n",
       "      <th>1</th>\n",
       "      <td>1473231475010DeeplearnS11276.png</td>\n",
       "      <td>88</td>\n",
       "      <td>554</td>\n",
       "      <td>114</td>\n",
       "      <td>364</td>\n",
       "    </tr>\n",
       "    <tr>\n",
       "      <th>2</th>\n",
       "      <td>JPEG_20161205_135307_1000155917326.png</td>\n",
       "      <td>117</td>\n",
       "      <td>510</td>\n",
       "      <td>46</td>\n",
       "      <td>431</td>\n",
       "    </tr>\n",
       "    <tr>\n",
       "      <th>3</th>\n",
       "      <td>JPEG_20160711_123440_1000518778437.png</td>\n",
       "      <td>194</td>\n",
       "      <td>461</td>\n",
       "      <td>80</td>\n",
       "      <td>400</td>\n",
       "    </tr>\n",
       "    <tr>\n",
       "      <th>4</th>\n",
       "      <td>JPEG_20160803_115329_100034020722.png</td>\n",
       "      <td>62</td>\n",
       "      <td>571</td>\n",
       "      <td>43</td>\n",
       "      <td>431</td>\n",
       "    </tr>\n",
       "    <tr>\n",
       "      <th>5</th>\n",
       "      <td>147444974116511473239803010-Mast--Harbour-Men-...</td>\n",
       "      <td>149</td>\n",
       "      <td>481</td>\n",
       "      <td>64</td>\n",
       "      <td>413</td>\n",
       "    </tr>\n",
       "    <tr>\n",
       "      <th>6</th>\n",
       "      <td>JPEG_20160622_110649_1000527459853.png</td>\n",
       "      <td>146</td>\n",
       "      <td>507</td>\n",
       "      <td>102</td>\n",
       "      <td>378</td>\n",
       "    </tr>\n",
       "    <tr>\n",
       "      <th>7</th>\n",
       "      <td>JPEG_20160823_120737_1000784898268.png</td>\n",
       "      <td>102</td>\n",
       "      <td>490</td>\n",
       "      <td>69</td>\n",
       "      <td>406</td>\n",
       "    </tr>\n",
       "    <tr>\n",
       "      <th>8</th>\n",
       "      <td>1480965956645IMG_3094.png</td>\n",
       "      <td>168</td>\n",
       "      <td>481</td>\n",
       "      <td>61</td>\n",
       "      <td>418</td>\n",
       "    </tr>\n",
       "    <tr>\n",
       "      <th>9</th>\n",
       "      <td>14732348976417a565e40d545452688130062b267a2d2.png</td>\n",
       "      <td>40</td>\n",
       "      <td>598</td>\n",
       "      <td>23</td>\n",
       "      <td>450</td>\n",
       "    </tr>\n",
       "  </tbody>\n",
       "</table>\n",
       "</div>"
      ],
      "text/plain": [
       "                                          image_name   x1   x2   y1   y2\n",
       "0                          1474723840903DSC08089.png  214  435   92  389\n",
       "1                   1473231475010DeeplearnS11276.png   88  554  114  364\n",
       "2             JPEG_20161205_135307_1000155917326.png  117  510   46  431\n",
       "3             JPEG_20160711_123440_1000518778437.png  194  461   80  400\n",
       "4              JPEG_20160803_115329_100034020722.png   62  571   43  431\n",
       "5  147444974116511473239803010-Mast--Harbour-Men-...  149  481   64  413\n",
       "6             JPEG_20160622_110649_1000527459853.png  146  507  102  378\n",
       "7             JPEG_20160823_120737_1000784898268.png  102  490   69  406\n",
       "8                          1480965956645IMG_3094.png  168  481   61  418\n",
       "9  14732348976417a565e40d545452688130062b267a2d2.png   40  598   23  450"
      ]
     },
     "execution_count": 112,
     "metadata": {
      "tags": []
     },
     "output_type": "execute_result"
    }
   ],
   "source": [
    "df2.head(10)"
   ]
  },
  {
   "cell_type": "code",
   "execution_count": 0,
   "metadata": {
    "colab": {},
    "colab_type": "code",
    "id": "wZXebyH4MW3X"
   },
   "outputs": [],
   "source": [
    "df2.to_csv('/content/drive/My Drive/testpred3.csv', index=False)"
   ]
  }
 ],
 "metadata": {
  "accelerator": "GPU",
  "colab": {
   "name": "GridPred.ipynb",
   "provenance": [],
   "version": "0.3.2"
  },
  "kernelspec": {
   "display_name": "Python 3",
   "language": "python",
   "name": "python3"
  },
  "language_info": {
   "codemirror_mode": {
    "name": "ipython",
    "version": 3
   },
   "file_extension": ".py",
   "mimetype": "text/x-python",
   "name": "python",
   "nbconvert_exporter": "python",
   "pygments_lexer": "ipython3",
   "version": "3.6.6"
  }
 },
 "nbformat": 4,
 "nbformat_minor": 1
}
